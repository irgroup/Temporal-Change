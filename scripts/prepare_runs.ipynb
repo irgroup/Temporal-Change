{
 "cells": [
  {
   "cell_type": "code",
   "execution_count": 1,
   "metadata": {},
   "outputs": [],
   "source": [
    "import pytrec_eval\n",
    "import pandas as pd\n",
    "import os\n",
    "import numpy as np\n",
    "import ir_datasets\n",
    "import json"
   ]
  },
  {
   "cell_type": "code",
   "execution_count": 2,
   "metadata": {},
   "outputs": [],
   "source": [
    "def load_runs_metadata_table():\n",
    "    table = []\n",
    "    for run in os.listdir(f\"../data/run\"):\n",
    "        parts = run.split(\"-\")\n",
    "        fields = {\n",
    "            \"dataset\": \"-\".join(parts[1:-4]),\n",
    "            \"subcollection\": parts[-4],\n",
    "            \"queries\": parts[-3],\n",
    "            \"method\": parts[-2],\n",
    "            \"implementation\": parts[-1],\n",
    "            \"filename\": run,\n",
    "        }\n",
    "        table.append(fields)\n",
    "    runs = pd.DataFrame(table)\n",
    "    runs = runs[\n",
    "        ~((runs[\"subcollection\"] == \"WT\") & (runs[\"queries\"] != \"queries\"))\n",
    "    ]  # longeval WT test only\n",
    "    runs = runs[\n",
    "        runs[\"method\"].isin(\n",
    "            [\n",
    "                \"bm25\",\n",
    "                \"bm25+colbert\",\n",
    "                \"bm25+monot5\",\n",
    "                \"rrf(xsqram__bm25_bo1__pl2)\",\n",
    "                \"bm25_d2q10\",\n",
    "            ]\n",
    "        )\n",
    "    ]\n",
    "    return runs"
   ]
  },
  {
   "cell_type": "markdown",
   "metadata": {},
   "source": [
    "# Trec-Covid"
   ]
  },
  {
   "cell_type": "code",
   "execution_count": 5,
   "metadata": {},
   "outputs": [],
   "source": [
    "runs_table = load_runs_metadata_table()"
   ]
  },
  {
   "cell_type": "code",
   "execution_count": 146,
   "metadata": {},
   "outputs": [],
   "source": [
    "for _, row in runs_table[runs_table[\"dataset\"] ==\"trec-covid\"].iterrows():\n",
    "    run = pd.read_csv(\"../data/run/\"+row.filename, sep=\" \", header=None, names=[\"qid\", \"Q0\", \"docid\", \"rank\", \"score\", \"method\"])\n",
    "    run = run[run[\"qid\"]<=30]\n",
    "    run.to_csv(\"../data/run-core_queries/\"+row.filename, sep=\" \", header=None, index=False)"
   ]
  },
  {
   "cell_type": "markdown",
   "metadata": {},
   "source": [
    "# LongEval\n",
    "### Merge train and test runs for $t_0$ WT runs"
   ]
  },
  {
   "cell_type": "code",
   "execution_count": 4,
   "metadata": {},
   "outputs": [],
   "source": [
    "table = []\n",
    "for run in os.listdir(\"../data/run\"):\n",
    "    parts = run.split(\"-\")\n",
    "    fields = {\"dataset\":  \"-\".join(parts[1:-4]),\n",
    "    \"subcollection\":  parts[-4],\n",
    "    \"queries\": parts[-3],\n",
    "    \"method\": parts[-2],\n",
    "    \"implementation\": parts[-1],\n",
    "    \"filename\": run}\n",
    "    table.append(fields)"
   ]
  },
  {
   "cell_type": "code",
   "execution_count": 5,
   "metadata": {},
   "outputs": [],
   "source": [
    "df = pd.DataFrame(table)"
   ]
  },
  {
   "cell_type": "code",
   "execution_count": 36,
   "metadata": {},
   "outputs": [
    {
     "name": "stderr",
     "output_type": "stream",
     "text": [
      "/tmp/ipykernel_28003/3578907483.py:1: UserWarning: Boolean Series key will be reindexed to match DataFrame index.\n",
      "  for method in df[df[\"dataset\"]==\"longeval\"][df[\"subcollection\"]==\"WT\"][\"method\"].unique():\n",
      "/tmp/ipykernel_28003/3578907483.py:2: UserWarning: Boolean Series key will be reindexed to match DataFrame index.\n",
      "  runs = df[df[\"dataset\"]==\"longeval\"][df[\"subcollection\"]==\"WT\"][df[\"method\"]==method][\"filename\"].to_list()\n",
      "/tmp/ipykernel_28003/3578907483.py:2: UserWarning: Boolean Series key will be reindexed to match DataFrame index.\n",
      "  runs = df[df[\"dataset\"]==\"longeval\"][df[\"subcollection\"]==\"WT\"][df[\"method\"]==method][\"filename\"].to_list()\n",
      "/tmp/ipykernel_28003/3578907483.py:2: UserWarning: Boolean Series key will be reindexed to match DataFrame index.\n",
      "  runs = df[df[\"dataset\"]==\"longeval\"][df[\"subcollection\"]==\"WT\"][df[\"method\"]==method][\"filename\"].to_list()\n",
      "/tmp/ipykernel_28003/3578907483.py:2: UserWarning: Boolean Series key will be reindexed to match DataFrame index.\n",
      "  runs = df[df[\"dataset\"]==\"longeval\"][df[\"subcollection\"]==\"WT\"][df[\"method\"]==method][\"filename\"].to_list()\n",
      "/tmp/ipykernel_28003/3578907483.py:2: UserWarning: Boolean Series key will be reindexed to match DataFrame index.\n",
      "  runs = df[df[\"dataset\"]==\"longeval\"][df[\"subcollection\"]==\"WT\"][df[\"method\"]==method][\"filename\"].to_list()\n",
      "/tmp/ipykernel_28003/3578907483.py:2: UserWarning: Boolean Series key will be reindexed to match DataFrame index.\n",
      "  runs = df[df[\"dataset\"]==\"longeval\"][df[\"subcollection\"]==\"WT\"][df[\"method\"]==method][\"filename\"].to_list()\n",
      "/tmp/ipykernel_28003/3578907483.py:2: UserWarning: Boolean Series key will be reindexed to match DataFrame index.\n",
      "  runs = df[df[\"dataset\"]==\"longeval\"][df[\"subcollection\"]==\"WT\"][df[\"method\"]==method][\"filename\"].to_list()\n",
      "/tmp/ipykernel_28003/3578907483.py:2: UserWarning: Boolean Series key will be reindexed to match DataFrame index.\n",
      "  runs = df[df[\"dataset\"]==\"longeval\"][df[\"subcollection\"]==\"WT\"][df[\"method\"]==method][\"filename\"].to_list()\n"
     ]
    }
   ],
   "source": [
    "for method in df[df[\"dataset\"]==\"longeval\"][df[\"subcollection\"]==\"WT\"][\"method\"].unique():\n",
    "    runs = df[df[\"dataset\"]==\"longeval\"][df[\"subcollection\"]==\"WT\"][df[\"method\"]==method][\"filename\"].to_list()\n",
    "    implementation = runs[0].split(\"-\")[-1]\n",
    "    full_run = pd.concat([pd.read_csv(base_path+runs[0], sep=\" \", header=None, names=[\"qid\", \"Q0\", \"docid\", \"rank\", \"score\", \"method\"]), pd.read_csv(base_path+runs[1], sep=\" \", header=None, names=[\"qid\", \"Q0\", \"docid\", \"rank\", \"score\", \"method\"])])\n",
    "    full_run.to_csv(f\"../data/run/run-longeval-WT-queries-{method}-{implementation}\", sep=\" \", header=None, index=False)"
   ]
  },
  {
   "cell_type": "markdown",
   "metadata": {},
   "source": [
    "### Filter runs"
   ]
  },
  {
   "cell_type": "code",
   "execution_count": 114,
   "metadata": {},
   "outputs": [],
   "source": [
    "def filter_run(row, core_docs=False):\n",
    "    run = pd.read_csv(\"../data/run/\"+row.filename, sep=\" \", header=None, names=[\"qid\", \"Q0\", \"docid\", \"rank\", \"score\", \"method\"])\n",
    "    \n",
    "    # prepare patches\n",
    "    longeval_core_docs = pd.read_csv(\"../evaluation/core_docs.tsv\", sep=\"\\t\", index_col=0)\n",
    "    patch_doc = longeval_core_docs[f\"docno_{row.subcollection}\"].reset_index()[[f\"docno_{row.subcollection}\", \"index\"]].set_index(f\"docno_{row.subcollection}\")[\"index\"].astype(str).to_dict()\n",
    "\n",
    "    longeval_core_queries = pd.read_csv(\"../evaluation/core_queries.tsv\", sep=\"\\t\", index_col=0)\n",
    "    patch_queries = longeval_core_queries[f\"qid_{row.subcollection}\"].reset_index()[[f\"qid_{row.subcollection}\", \"index\"]].set_index(f\"qid_{row.subcollection}\")[\"index\"].astype(str).to_dict()\n",
    "\n",
    "    if core_docs:\n",
    "        run[\"docid\"] = run[\"docid\"].apply(lambda x: patch_doc.get(x, None))\n",
    "    else:\n",
    "        run[\"docid\"] = run[\"docid\"].apply(lambda x: patch_doc.get(x, x))\n",
    "    run[\"qid\"] = run[\"qid\"].apply(lambda x: patch_queries.get(x, None))\n",
    "\n",
    "    return run.dropna()"
   ]
  },
  {
   "cell_type": "code",
   "execution_count": 117,
   "metadata": {},
   "outputs": [],
   "source": [
    "runs_table = load_runs_metadata_table()\n",
    "for _, row in runs_table[runs_table[\"dataset\"] ==\"longeval\"].iterrows():\n",
    "    run = filter_run(row)\n",
    "    run.to_csv(\"../data/run-core_queries/\"+row.filename, sep=\" \", header=None, index=False)"
   ]
  },
  {
   "cell_type": "markdown",
   "metadata": {},
   "source": [
    "# TripClick"
   ]
  },
  {
   "cell_type": "code",
   "execution_count": 173,
   "metadata": {},
   "outputs": [],
   "source": [
    "for _, row in runs_table[runs_table[\"dataset\"] ==\"tripclick-test-head\"].iterrows():\n",
    "    run = pd.read_csv(\"../data/run/\"+row.filename, sep=\" \", header=None, names=[\"qid\", \"Q0\", \"docid\", \"rank\", \"score\", \"method\"])\n",
    "    run.to_csv(\"../data/run-core_queries/\"+row.filename, sep=\" \", header=None, index=False)"
   ]
  }
 ],
 "metadata": {
  "kernelspec": {
   "display_name": "LongEval",
   "language": "python",
   "name": "python3"
  },
  "language_info": {
   "codemirror_mode": {
    "name": "ipython",
    "version": 3
   },
   "file_extension": ".py",
   "mimetype": "text/x-python",
   "name": "python",
   "nbconvert_exporter": "python",
   "pygments_lexer": "ipython3",
   "version": "3.8.16"
  },
  "orig_nbformat": 4
 },
 "nbformat": 4,
 "nbformat_minor": 2
}
