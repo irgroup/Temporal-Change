{
 "cells": [
  {
   "cell_type": "code",
   "execution_count": 1,
   "metadata": {},
   "outputs": [],
   "source": [
    "import pandas as pd\n",
    "import json\n",
    "import os"
   ]
  },
  {
   "cell_type": "markdown",
   "metadata": {},
   "source": [
    "# LongEval\n",
    "- filter runs for core queries\n",
    "- filter runs for core docs\n",
    "- filter qrels \n",
    "- harmonize"
   ]
  },
  {
   "cell_type": "code",
   "execution_count": 15,
   "metadata": {},
   "outputs": [],
   "source": [
    "def filter_qrels(subcollection, mode=\"\"):\n",
    "    qrel_paths = {\n",
    "        \"WT\": \"../data/dataset/LongEval/longeval-relevance-judgements/heldout-test.txt\",\n",
    "        \"WT-train\": \"../data/dataset/LongEval/publish/French/Qrels/train.txt\",\n",
    "        \"ST\": \"../data/dataset/LongEval/longeval-relevance-judgements/a-short-july.txt\",\n",
    "        \"LT\": \"../data/dataset/LongEval/longeval-relevance-judgements/b-long-september.txt\",\n",
    "    }\n",
    "\n",
    "    # load core queries\n",
    "    longeval_core_queries = pd.read_csv(\"../evaluation/core_queries.tsv\", sep=\"\\t\", index_col=0)\n",
    "    # load qrels\n",
    "    qrels = pd.read_csv(qrel_paths[subcollection + mode], sep=\" \", header=None, names=[\"qid\", \"Q0\", \"docid\", \"relevance\"])\n",
    "\n",
    "    patch = longeval_core_queries[f\"qid_{subcollection}\"].reset_index()[[f\"qid_{subcollection}\", \"index\"]].set_index(f\"qid_{subcollection}\")[\"index\"].astype(str).to_dict()\n",
    "\n",
    "    # rename qrels\n",
    "    qrels[\"qid\"] = qrels[\"qid\"].apply(lambda x: patch.get(x, None))\n",
    "\n",
    "    # filter\n",
    "    return qrels.dropna()"
   ]
  },
  {
   "cell_type": "code",
   "execution_count": 16,
   "metadata": {},
   "outputs": [],
   "source": [
    "wt = filter_qrels(\"WT\")\n",
    "wt_train = filter_qrels(\"WT\", \"-train\")\n",
    "wt = pd.concat([wt, wt_train])\n",
    "wt.to_csv(\"../data/qrels/longeval-WT.qrels-test-core_queries\", sep=\" \", header=None, index=False)"
   ]
  },
  {
   "cell_type": "code",
   "execution_count": 17,
   "metadata": {},
   "outputs": [],
   "source": [
    "st = filter_qrels(\"ST\")\n",
    "st.to_csv(\"../data/qrels/longeval-ST.qrels-test-core_queries\", sep=\" \", header=None, index=False)"
   ]
  },
  {
   "cell_type": "code",
   "execution_count": 18,
   "metadata": {},
   "outputs": [],
   "source": [
    "st = filter_qrels(\"LT\")\n",
    "st.to_csv(\"../data/qrels/longeval-LT.qrels-test-core_queries\", sep=\" \", header=None, index=False)"
   ]
  },
  {
   "cell_type": "markdown",
   "metadata": {},
   "source": [
    "### Filter Runs"
   ]
  },
  {
   "cell_type": "code",
   "execution_count": 8,
   "metadata": {},
   "outputs": [],
   "source": [
    "def load_runs_metadata_table():\n",
    "    table = []\n",
    "    for run in os.listdir(f\"../data/run\"):\n",
    "        parts = run.split(\"-\")\n",
    "        fields = {\n",
    "            \"dataset\": \"-\".join(parts[1:-4]),\n",
    "            \"subcollection\": parts[-4],\n",
    "            \"queries\": parts[-3],\n",
    "            \"method\": parts[-2],\n",
    "            \"implementation\": parts[-1],\n",
    "            \"filename\": run,\n",
    "        }\n",
    "        table.append(fields)\n",
    "    runs = pd.DataFrame(table)\n",
    "    runs = runs[\n",
    "        ~((runs[\"subcollection\"] == \"WT\") & (runs[\"queries\"] != \"queries\"))\n",
    "    ]  # longeval WT test only\n",
    "    runs = runs[\n",
    "        runs[\"method\"].isin(\n",
    "            [\n",
    "                \"bm25\",\n",
    "                \"bm25+colbert\",\n",
    "                \"bm25+monot5\",\n",
    "                \"rrf(xsqram__bm25_bo1__pl2)\",\n",
    "                \"bm25_d2q10\",\n",
    "            ]\n",
    "        )\n",
    "    ]\n",
    "    return runs"
   ]
  },
  {
   "cell_type": "code",
   "execution_count": 20,
   "metadata": {},
   "outputs": [
    {
     "data": {
      "text/html": [
       "<div>\n",
       "<style scoped>\n",
       "    .dataframe tbody tr th:only-of-type {\n",
       "        vertical-align: middle;\n",
       "    }\n",
       "\n",
       "    .dataframe tbody tr th {\n",
       "        vertical-align: top;\n",
       "    }\n",
       "\n",
       "    .dataframe thead th {\n",
       "        text-align: right;\n",
       "    }\n",
       "</style>\n",
       "<table border=\"1\" class=\"dataframe\">\n",
       "  <thead>\n",
       "    <tr style=\"text-align: right;\">\n",
       "      <th></th>\n",
       "      <th>docno_WT</th>\n",
       "      <th>docno_ST</th>\n",
       "      <th>docno_LT</th>\n",
       "    </tr>\n",
       "  </thead>\n",
       "  <tbody>\n",
       "    <tr>\n",
       "      <th>0</th>\n",
       "      <td>doc062210000001</td>\n",
       "      <td>doc072204608334</td>\n",
       "      <td>doc092205609019</td>\n",
       "    </tr>\n",
       "    <tr>\n",
       "      <th>1</th>\n",
       "      <td>doc062210000002</td>\n",
       "      <td>doc072204608335</td>\n",
       "      <td>doc092205609020</td>\n",
       "    </tr>\n",
       "    <tr>\n",
       "      <th>2</th>\n",
       "      <td>doc062210000003</td>\n",
       "      <td>doc072204608336</td>\n",
       "      <td>doc092205609021</td>\n",
       "    </tr>\n",
       "    <tr>\n",
       "      <th>5</th>\n",
       "      <td>doc062210000006</td>\n",
       "      <td>doc072204608339</td>\n",
       "      <td>doc092205609023</td>\n",
       "    </tr>\n",
       "    <tr>\n",
       "      <th>7</th>\n",
       "      <td>doc062210000008</td>\n",
       "      <td>doc072204608341</td>\n",
       "      <td>doc092205609024</td>\n",
       "    </tr>\n",
       "    <tr>\n",
       "      <th>...</th>\n",
       "      <td>...</td>\n",
       "      <td>...</td>\n",
       "      <td>...</td>\n",
       "    </tr>\n",
       "    <tr>\n",
       "      <th>1570723</th>\n",
       "      <td>doc062200909296</td>\n",
       "      <td>doc072211909464</td>\n",
       "      <td>doc092208702718</td>\n",
       "    </tr>\n",
       "    <tr>\n",
       "      <th>1570724</th>\n",
       "      <td>doc062200909297</td>\n",
       "      <td>doc072211909465</td>\n",
       "      <td>doc092208702719</td>\n",
       "    </tr>\n",
       "    <tr>\n",
       "      <th>1570725</th>\n",
       "      <td>doc062200909298</td>\n",
       "      <td>doc072211909466</td>\n",
       "      <td>doc092208702720</td>\n",
       "    </tr>\n",
       "    <tr>\n",
       "      <th>1570729</th>\n",
       "      <td>doc062200909302</td>\n",
       "      <td>doc072211909470</td>\n",
       "      <td>doc092208702721</td>\n",
       "    </tr>\n",
       "    <tr>\n",
       "      <th>1570733</th>\n",
       "      <td>doc062200909306</td>\n",
       "      <td>doc072210805762</td>\n",
       "      <td>doc092203802231</td>\n",
       "    </tr>\n",
       "  </tbody>\n",
       "</table>\n",
       "<p>1011613 rows × 3 columns</p>\n",
       "</div>"
      ],
      "text/plain": [
       "                docno_WT         docno_ST         docno_LT\n",
       "0        doc062210000001  doc072204608334  doc092205609019\n",
       "1        doc062210000002  doc072204608335  doc092205609020\n",
       "2        doc062210000003  doc072204608336  doc092205609021\n",
       "5        doc062210000006  doc072204608339  doc092205609023\n",
       "7        doc062210000008  doc072204608341  doc092205609024\n",
       "...                  ...              ...              ...\n",
       "1570723  doc062200909296  doc072211909464  doc092208702718\n",
       "1570724  doc062200909297  doc072211909465  doc092208702719\n",
       "1570725  doc062200909298  doc072211909466  doc092208702720\n",
       "1570729  doc062200909302  doc072211909470  doc092208702721\n",
       "1570733  doc062200909306  doc072210805762  doc092203802231\n",
       "\n",
       "[1011613 rows x 3 columns]"
      ]
     },
     "execution_count": 20,
     "metadata": {},
     "output_type": "execute_result"
    }
   ],
   "source": [
    "longeval_core_docs"
   ]
  },
  {
   "cell_type": "code",
   "execution_count": 9,
   "metadata": {},
   "outputs": [],
   "source": [
    "def filter_run(row, queries=True):\n",
    "    run = pd.read_csv(\"../data/run/\"+row.filename, sep=\" \", header=None, names=[\"qid\", \"Q0\", \"docid\", \"rank\", \"score\", \"method\"])\n",
    "    \n",
    "    if queries:\n",
    "        longeval_core_queries = pd.read_csv(\"../evaluation/core_queries.tsv\", sep=\"\\t\", index_col=0)\n",
    "        \n",
    "        patch = longeval_core_queries[f\"qid_{row.subcollection}\"].reset_index()[[f\"qid_{row.subcollection}\", \"index\"]].set_index(f\"qid_{row.subcollection}\")[\"index\"].astype(str).to_dict()\n",
    "\n",
    "        run[\"qid\"] = run[\"qid\"].apply(lambda x: patch.get(x, None))\n",
    "    return run.dropna()"
   ]
  },
  {
   "cell_type": "code",
   "execution_count": 10,
   "metadata": {},
   "outputs": [],
   "source": [
    "runs_table = load_runs_metadata_table()"
   ]
  },
  {
   "cell_type": "code",
   "execution_count": 11,
   "metadata": {},
   "outputs": [],
   "source": [
    "for _, row in runs_table[runs_table[\"dataset\"] ==\"longeval\"].iterrows():\n",
    "    run = filter_run(row)\n",
    "    run.to_csv(\"../data/run-core_queries/\"+row.filename, sep=\" \", header=None, index=False)"
   ]
  },
  {
   "cell_type": "code",
   "execution_count": 27,
   "metadata": {},
   "outputs": [],
   "source": [
    "def filter_run(row):\n",
    "    run = pd.read_csv(\"../data/run-core_queries/\"+row.filename, sep=\" \", header=None, names=[\"qid\", \"Q0\", \"docid\", \"rank\", \"score\", \"method\"])\n",
    "    \n",
    "    longeval_core_docs = pd.read_csv(\"../evaluation/core_docs.tsv\", sep=\"\\t\", index_col=0)\n",
    "        \n",
    "    patch = longeval_core_docs[f\"docno_{row.subcollection}\"].reset_index()[[f\"docno_{row.subcollection}\", \"index\"]].set_index(f\"docno_{row.subcollection}\")[\"index\"].astype(str).to_dict()\n",
    "\n",
    "    run[\"docid\"] = run[\"docid\"].apply(lambda x: patch.get(x, x))\n",
    "    return run"
   ]
  },
  {
   "cell_type": "code",
   "execution_count": 28,
   "metadata": {},
   "outputs": [],
   "source": [
    "for _, row in runs_table[runs_table[\"dataset\"] ==\"longeval\"].iterrows():\n",
    "    run = filter_run(row)\n",
    "    run.to_csv(\"../data/run-core_docs/\"+row.filename, sep=\" \", header=None, index=False)"
   ]
  },
  {
   "cell_type": "markdown",
   "metadata": {},
   "source": [
    "# Trec-covid"
   ]
  },
  {
   "cell_type": "code",
   "execution_count": 12,
   "metadata": {},
   "outputs": [],
   "source": [
    "runs_table = load_runs_metadata_table()"
   ]
  },
  {
   "cell_type": "code",
   "execution_count": 13,
   "metadata": {},
   "outputs": [],
   "source": [
    "for _, row in runs_table[runs_table[\"dataset\"] ==\"trec-covid\"].iterrows():\n",
    "    run = pd.read_csv(\"../data/run/\"+row.filename, sep=\" \", header=None, names=[\"qid\", \"Q0\", \"docid\", \"rank\", \"score\", \"method\"])\n",
    "    run = run[run[\"qid\"]<=30]\n",
    "    run.to_csv(\"../data/run-core_queries/\"+row.filename, sep=\" \", header=None, index=False)"
   ]
  },
  {
   "cell_type": "markdown",
   "metadata": {},
   "source": [
    "# Trip Click"
   ]
  },
  {
   "cell_type": "code",
   "execution_count": 14,
   "metadata": {},
   "outputs": [],
   "source": [
    "for _, row in runs_table[runs_table[\"dataset\"] ==\"tripclick-test-head\"].iterrows():\n",
    "    run = pd.read_csv(\"../data/run/\"+row.filename, sep=\" \", header=None, names=[\"qid\", \"Q0\", \"docid\", \"rank\", \"score\", \"method\"])\n",
    "    run.to_csv(\"../data/run-core_queries/\"+row.filename, sep=\" \", header=None, index=False)"
   ]
  },
  {
   "cell_type": "code",
   "execution_count": null,
   "metadata": {},
   "outputs": [],
   "source": []
  }
 ],
 "metadata": {
  "kernelspec": {
   "display_name": "LongEval",
   "language": "python",
   "name": "python3"
  },
  "language_info": {
   "codemirror_mode": {
    "name": "ipython",
    "version": 3
   },
   "file_extension": ".py",
   "mimetype": "text/x-python",
   "name": "python",
   "nbconvert_exporter": "python",
   "pygments_lexer": "ipython3",
   "version": "3.8.16"
  },
  "orig_nbformat": 4
 },
 "nbformat": 4,
 "nbformat_minor": 2
}
